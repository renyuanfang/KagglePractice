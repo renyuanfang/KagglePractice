{
 "cells": [
  {
   "cell_type": "code",
   "execution_count": 1,
   "metadata": {
    "_cell_guid": "b1076dfc-b9ad-4769-8c92-a6c4dae69d19",
    "_uuid": "8f2839f25d086af736a60e9eeb907d3b93b6e0e5"
   },
   "outputs": [
    {
     "name": "stdout",
     "output_type": "stream",
     "text": [
      "['test', 'sample_submission.csv', 'train']\n"
     ]
    }
   ],
   "source": [
    "# This Python 3 environment comes with many helpful analytics libraries installed\n",
    "# It is defined by the kaggle/python docker image: https://github.com/kaggle/docker-python\n",
    "# For example, here's several helpful packages to load in \n",
    "\n",
    "import numpy as np # linear algebra\n",
    "import pandas as pd # data processing, CSV file I/O (e.g. pd.read_csv)\n",
    "\n",
    "# Input data files are available in the \"../input/\" directory.\n",
    "# For example, running this (by clicking run or pressing Shift+Enter) will list the files in the input directory\n",
    "\n",
    "import os\n",
    "print(os.listdir(\"../input\"))\n",
    "\n",
    "# Any results you write to the current directory are saved as output."
   ]
  },
  {
   "cell_type": "code",
   "execution_count": 2,
   "metadata": {
    "_cell_guid": "79c7e3d0-c299-4dcb-8224-4455121ee9b0",
    "_uuid": "d629ff2d2480ee46fbb7e2d37f6b5fab8052498a"
   },
   "outputs": [
    {
     "name": "stderr",
     "output_type": "stream",
     "text": [
      "Using TensorFlow backend.\n"
     ]
    }
   ],
   "source": [
    "from keras.layers import Dense, Flatten, Dropout, Lambda, Input\n",
    "from keras.models import Model\n",
    "from keras.applications import *\n",
    "from keras.preprocessing.image import ImageDataGenerator, load_img, img_to_array\n",
    "import matplotlib.pyplot as plt\n",
    "from sklearn.model_selection import train_test_split\n",
    "from keras.callbacks import ModelCheckpoint"
   ]
  },
  {
   "cell_type": "code",
   "execution_count": 3,
   "metadata": {},
   "outputs": [],
   "source": [
    "filenames = os.listdir(\"../input/train/train\")\n",
    "labels = []\n",
    "for file in filenames:\n",
    "    category = file.split('.')[0]\n",
    "    if category == 'cat':\n",
    "        labels.append('cat')\n",
    "    else:\n",
    "        labels.append('dog')"
   ]
  },
  {
   "cell_type": "code",
   "execution_count": 4,
   "metadata": {},
   "outputs": [],
   "source": [
    "df = pd.DataFrame({\n",
    "    'filename': filenames,\n",
    "    'label': labels\n",
    "})\n",
    "train_df, validation_df = train_test_split(df, test_size=0.1, random_state = 42)\n",
    "train_df = train_df.reset_index(drop=True)\n",
    "validation_df = validation_df.reset_index(drop=True)"
   ]
  },
  {
   "cell_type": "code",
   "execution_count": 5,
   "metadata": {},
   "outputs": [],
   "source": [
    "height = 224\n",
    "width = 224\n",
    "channels = 3\n",
    "batch_size = 32\n",
    "train_num = len(train_df)\n",
    "validation_num = len(validation_df)"
   ]
  },
  {
   "cell_type": "code",
   "execution_count": 6,
   "metadata": {},
   "outputs": [
    {
     "name": "stdout",
     "output_type": "stream",
     "text": [
      "Found 22500 images belonging to 2 classes.\n",
      "Found 2500 images belonging to 2 classes.\n"
     ]
    }
   ],
   "source": [
    "#first train without data augmentation\n",
    "train_datagen = ImageDataGenerator()\n",
    "train_generator = train_datagen.flow_from_dataframe(\n",
    "    train_df,\n",
    "    '../input/train/train/',\n",
    "    x_col = 'filename',\n",
    "    y_col = 'label',\n",
    "    target_size = (height, width),\n",
    "    class_mode = 'binary',\n",
    "    batch_size = batch_size\n",
    ")\n",
    "\n",
    "validation_datagen = ImageDataGenerator()\n",
    "\n",
    "validation_generator = validation_datagen.flow_from_dataframe(\n",
    "    validation_df,\n",
    "    '../input/train/train/',\n",
    "    x_col = 'filename',\n",
    "    y_col = 'label',\n",
    "    target_size = (height, width),\n",
    "    class_mode = 'binary',\n",
    "    batch_size = batch_size\n",
    ")"
   ]
  },
  {
   "cell_type": "code",
   "execution_count": 7,
   "metadata": {},
   "outputs": [
    {
     "name": "stdout",
     "output_type": "stream",
     "text": [
      "WARNING:tensorflow:From /opt/conda/lib/python3.6/site-packages/tensorflow/python/framework/op_def_library.py:263: colocate_with (from tensorflow.python.framework.ops) is deprecated and will be removed in a future version.\n",
      "Instructions for updating:\n",
      "Colocations handled automatically by placer.\n",
      "Downloading data from https://github.com/fchollet/deep-learning-models/releases/download/v0.1/vgg16_weights_tf_dim_ordering_tf_kernels_notop.h5\n",
      "58892288/58889256 [==============================] - 2s 0us/step\n",
      "WARNING:tensorflow:From /opt/conda/lib/python3.6/site-packages/keras/backend/tensorflow_backend.py:3445: calling dropout (from tensorflow.python.ops.nn_ops) with keep_prob is deprecated and will be removed in a future version.\n",
      "Instructions for updating:\n",
      "Please use `rate` instead of `keep_prob`. Rate should be set to `rate = 1 - keep_prob`.\n",
      "_________________________________________________________________\n",
      "Layer (type)                 Output Shape              Param #   \n",
      "=================================================================\n",
      "input_1 (InputLayer)         (None, 224, 224, 3)       0         \n",
      "_________________________________________________________________\n",
      "lambda_1 (Lambda)            (None, 224, 224, 3)       0         \n",
      "_________________________________________________________________\n",
      "block1_conv1 (Conv2D)        (None, 224, 224, 64)      1792      \n",
      "_________________________________________________________________\n",
      "block1_conv2 (Conv2D)        (None, 224, 224, 64)      36928     \n",
      "_________________________________________________________________\n",
      "block1_pool (MaxPooling2D)   (None, 112, 112, 64)      0         \n",
      "_________________________________________________________________\n",
      "block2_conv1 (Conv2D)        (None, 112, 112, 128)     73856     \n",
      "_________________________________________________________________\n",
      "block2_conv2 (Conv2D)        (None, 112, 112, 128)     147584    \n",
      "_________________________________________________________________\n",
      "block2_pool (MaxPooling2D)   (None, 56, 56, 128)       0         \n",
      "_________________________________________________________________\n",
      "block3_conv1 (Conv2D)        (None, 56, 56, 256)       295168    \n",
      "_________________________________________________________________\n",
      "block3_conv2 (Conv2D)        (None, 56, 56, 256)       590080    \n",
      "_________________________________________________________________\n",
      "block3_conv3 (Conv2D)        (None, 56, 56, 256)       590080    \n",
      "_________________________________________________________________\n",
      "block3_pool (MaxPooling2D)   (None, 28, 28, 256)       0         \n",
      "_________________________________________________________________\n",
      "block4_conv1 (Conv2D)        (None, 28, 28, 512)       1180160   \n",
      "_________________________________________________________________\n",
      "block4_conv2 (Conv2D)        (None, 28, 28, 512)       2359808   \n",
      "_________________________________________________________________\n",
      "block4_conv3 (Conv2D)        (None, 28, 28, 512)       2359808   \n",
      "_________________________________________________________________\n",
      "block4_pool (MaxPooling2D)   (None, 14, 14, 512)       0         \n",
      "_________________________________________________________________\n",
      "block5_conv1 (Conv2D)        (None, 14, 14, 512)       2359808   \n",
      "_________________________________________________________________\n",
      "block5_conv2 (Conv2D)        (None, 14, 14, 512)       2359808   \n",
      "_________________________________________________________________\n",
      "block5_conv3 (Conv2D)        (None, 14, 14, 512)       2359808   \n",
      "_________________________________________________________________\n",
      "block5_pool (MaxPooling2D)   (None, 7, 7, 512)         0         \n",
      "_________________________________________________________________\n",
      "global_average_pooling2d_1 ( (None, 512)               0         \n",
      "_________________________________________________________________\n",
      "dropout_1 (Dropout)          (None, 512)               0         \n",
      "_________________________________________________________________\n",
      "dense_1 (Dense)              (None, 256)               131328    \n",
      "_________________________________________________________________\n",
      "dropout_2 (Dropout)          (None, 256)               0         \n",
      "_________________________________________________________________\n",
      "dense_2 (Dense)              (None, 1)                 257       \n",
      "=================================================================\n",
      "Total params: 14,846,273\n",
      "Trainable params: 131,585\n",
      "Non-trainable params: 14,714,688\n",
      "_________________________________________________________________\n"
     ]
    }
   ],
   "source": [
    "#define vgg model\n",
    "lambda_fun = vgg16.preprocess_input\n",
    "inp = Input(shape = (height, width, channels))\n",
    "x = Lambda(lambda_fun)(inp)\n",
    "base_model = vgg16.VGG16(input_tensor = x, weights = 'imagenet', \n",
    "                         include_top = False, pooling = 'avg')\n",
    "x = Dropout(0.5)(base_model.output)\n",
    "x = Dense(256, activation = 'relu')(x)\n",
    "x = Dropout(0.5)(x)\n",
    "x = Dense(1, activation='sigmoid')(x)\n",
    "vgg_finetune_model = Model(inp, x)\n",
    "for layer in base_model.layers:\n",
    "    layer.trainable = False\n",
    "\n",
    "vgg_finetune_model.compile(loss = 'binary_crossentropy',\n",
    "                          optimizer = 'rmsprop',\n",
    "                          metrics = ['accuracy'])\n",
    "\n",
    "vgg_finetune_model.summary()"
   ]
  },
  {
   "cell_type": "code",
   "execution_count": 8,
   "metadata": {},
   "outputs": [
    {
     "name": "stdout",
     "output_type": "stream",
     "text": [
      "WARNING:tensorflow:From /opt/conda/lib/python3.6/site-packages/tensorflow/python/ops/math_ops.py:3066: to_int32 (from tensorflow.python.ops.math_ops) is deprecated and will be removed in a future version.\n",
      "Instructions for updating:\n",
      "Use tf.cast instead.\n",
      "\n",
      "Epoch 00001: val_loss improved from inf to 0.05055, saving model to dogcat.weights.best.hdf5\n",
      "\n",
      "Epoch 00002: val_loss improved from 0.05055 to 0.04885, saving model to dogcat.weights.best.hdf5\n",
      "\n",
      "Epoch 00003: val_loss did not improve from 0.04885\n",
      "\n",
      "Epoch 00004: val_loss did not improve from 0.04885\n",
      "\n",
      "Epoch 00005: val_loss did not improve from 0.04885\n",
      "\n",
      "Epoch 00006: val_loss improved from 0.04885 to 0.04697, saving model to dogcat.weights.best.hdf5\n",
      "\n",
      "Epoch 00007: val_loss did not improve from 0.04697\n",
      "\n",
      "Epoch 00008: val_loss did not improve from 0.04697\n",
      "\n",
      "Epoch 00009: val_loss improved from 0.04697 to 0.04209, saving model to dogcat.weights.best.hdf5\n",
      "\n",
      "Epoch 00010: val_loss did not improve from 0.04209\n"
     ]
    },
    {
     "data": {
      "text/plain": [
       "<keras.callbacks.History at 0x7fc0ee189710>"
      ]
     },
     "execution_count": 8,
     "metadata": {},
     "output_type": "execute_result"
    }
   ],
   "source": [
    "checkpointer = ModelCheckpoint(filepath='dogcat.weights.best.hdf5', verbose=1, \n",
    "                               save_best_only=True)\n",
    "vgg_finetune_model.fit_generator(\n",
    "    train_generator,\n",
    "    epochs = 10,\n",
    "    steps_per_epoch = train_num // batch_size,\n",
    "    validation_data = validation_generator,\n",
    "    validation_steps = validation_num // batch_size,\n",
    "    verbose = 0,\n",
    "    callbacks = [checkpointer]\n",
    ")"
   ]
  },
  {
   "cell_type": "code",
   "execution_count": 9,
   "metadata": {},
   "outputs": [],
   "source": [
    "vgg_finetune_model.load_weights('dogcat.weights.best.hdf5')"
   ]
  },
  {
   "cell_type": "code",
   "execution_count": 10,
   "metadata": {},
   "outputs": [],
   "source": [
    "for layer in base_model.layers[:16]:\n",
    "    layer.trainable = False\n",
    "\n",
    "for layer in base_model.layers[16:]:\n",
    "    layer.trainable = True"
   ]
  },
  {
   "cell_type": "code",
   "execution_count": 11,
   "metadata": {},
   "outputs": [],
   "source": [
    "from keras.optimizers import SGD\n",
    "vgg_finetune_model.compile(optimizer=SGD(lr=0.0001, momentum=0.9), \n",
    "              loss = 'binary_crossentropy',\n",
    "              metrics = ['accuracy'])"
   ]
  },
  {
   "cell_type": "code",
   "execution_count": 12,
   "metadata": {},
   "outputs": [
    {
     "name": "stdout",
     "output_type": "stream",
     "text": [
      "Found 22500 images belonging to 2 classes.\n"
     ]
    }
   ],
   "source": [
    "#add data_augmentation\n",
    "train_aug_datagen = ImageDataGenerator(\n",
    "    rotation_range = 15,\n",
    "    shear_range = 0.1,\n",
    "    zoom_range = 0.2,\n",
    "    width_shift_range = 0.1,\n",
    "    height_shift_range = 0.1,\n",
    "    horizontal_flip = True\n",
    ")\n",
    "train_aug_generator = train_aug_datagen.flow_from_dataframe(\n",
    "    train_df,\n",
    "    '../input/train/train/',\n",
    "    x_col = 'filename',\n",
    "    y_col = 'label',\n",
    "    target_size = (height, width),\n",
    "    class_mode = 'binary',\n",
    "    batch_size = batch_size\n",
    ")"
   ]
  },
  {
   "cell_type": "code",
   "execution_count": 13,
   "metadata": {},
   "outputs": [
    {
     "name": "stdout",
     "output_type": "stream",
     "text": [
      "\n",
      "Epoch 00001: val_loss improved from 0.04209 to 0.03129, saving model to dogcat.weights.best.hdf5\n",
      "\n",
      "Epoch 00002: val_loss did not improve from 0.03129\n",
      "\n",
      "Epoch 00003: val_loss improved from 0.03129 to 0.02896, saving model to dogcat.weights.best.hdf5\n",
      "\n",
      "Epoch 00004: val_loss improved from 0.02896 to 0.02852, saving model to dogcat.weights.best.hdf5\n",
      "\n",
      "Epoch 00005: val_loss did not improve from 0.02852\n",
      "\n",
      "Epoch 00006: val_loss improved from 0.02852 to 0.02667, saving model to dogcat.weights.best.hdf5\n",
      "\n",
      "Epoch 00007: val_loss did not improve from 0.02667\n",
      "\n",
      "Epoch 00008: val_loss did not improve from 0.02667\n",
      "\n",
      "Epoch 00009: val_loss improved from 0.02667 to 0.02571, saving model to dogcat.weights.best.hdf5\n",
      "\n",
      "Epoch 00010: val_loss improved from 0.02571 to 0.01989, saving model to dogcat.weights.best.hdf5\n",
      "\n",
      "Epoch 00011: val_loss did not improve from 0.01989\n",
      "\n",
      "Epoch 00012: val_loss did not improve from 0.01989\n",
      "\n",
      "Epoch 00013: val_loss did not improve from 0.01989\n",
      "\n",
      "Epoch 00014: val_loss did not improve from 0.01989\n",
      "\n",
      "Epoch 00015: val_loss did not improve from 0.01989\n",
      "\n",
      "Epoch 00016: val_loss did not improve from 0.01989\n",
      "\n",
      "Epoch 00017: val_loss did not improve from 0.01989\n",
      "\n",
      "Epoch 00018: val_loss did not improve from 0.01989\n",
      "\n",
      "Epoch 00019: val_loss did not improve from 0.01989\n",
      "\n",
      "Epoch 00020: val_loss improved from 0.01989 to 0.01925, saving model to dogcat.weights.best.hdf5\n"
     ]
    },
    {
     "data": {
      "text/plain": [
       "<keras.callbacks.History at 0x7fc0ee177c50>"
      ]
     },
     "execution_count": 13,
     "metadata": {},
     "output_type": "execute_result"
    }
   ],
   "source": [
    "vgg_finetune_model.fit_generator(\n",
    "    train_aug_generator,\n",
    "    epochs = 20,\n",
    "    steps_per_epoch = train_num // batch_size,\n",
    "    validation_data = validation_generator,\n",
    "    validation_steps = validation_num // batch_size,\n",
    "    verbose = 0,\n",
    "    callbacks = [checkpointer]\n",
    ")"
   ]
  },
  {
   "cell_type": "code",
   "execution_count": 14,
   "metadata": {},
   "outputs": [],
   "source": [
    "vgg_finetune_model.load_weights('dogcat.weights.best.hdf5')"
   ]
  },
  {
   "cell_type": "code",
   "execution_count": 15,
   "metadata": {},
   "outputs": [
    {
     "name": "stdout",
     "output_type": "stream",
     "text": [
      "Found 12500 images.\n"
     ]
    }
   ],
   "source": [
    "test_filenames = os.listdir(\"../input/test/test\")\n",
    "test_df = pd.DataFrame({\n",
    "    'filename': test_filenames\n",
    "})\n",
    "num_test = len(test_df)\n",
    "\n",
    "test_datagen = ImageDataGenerator()\n",
    "\n",
    "test_generator = test_datagen.flow_from_dataframe(\n",
    "    test_df,\n",
    "    '../input/test/test/',\n",
    "    x_col = 'filename',\n",
    "    y_col = None,\n",
    "    class_mode = None,\n",
    "    target_size = (height, width),\n",
    "    batch_size = batch_size,\n",
    "    shuffle = False\n",
    ")"
   ]
  },
  {
   "cell_type": "code",
   "execution_count": 16,
   "metadata": {},
   "outputs": [],
   "source": [
    "prediction = vgg_finetune_model.predict_generator(test_generator, \n",
    "                                         steps=np.ceil(num_test/batch_size))\n",
    "prediction = prediction.clip(min = 0.005, max = 0.995)"
   ]
  },
  {
   "cell_type": "code",
   "execution_count": 17,
   "metadata": {},
   "outputs": [],
   "source": [
    "submission_df = pd.read_csv('../input/sample_submission.csv')\n",
    "for i, fname in enumerate(test_generator.filenames):\n",
    "    index = int(fname[fname.rfind('/')+1:fname.rfind('.')])\n",
    "    submission_df.at[index-1, 'label'] = prediction[i]\n",
    "submission_df.to_csv('submission.csv', index=False)"
   ]
  }
 ],
 "metadata": {
  "kernelspec": {
   "display_name": "Python 3",
   "language": "python",
   "name": "python3"
  },
  "language_info": {
   "codemirror_mode": {
    "name": "ipython",
    "version": 3
   },
   "file_extension": ".py",
   "mimetype": "text/x-python",
   "name": "python",
   "nbconvert_exporter": "python",
   "pygments_lexer": "ipython3",
   "version": "3.6.4"
  }
 },
 "nbformat": 4,
 "nbformat_minor": 1
}
